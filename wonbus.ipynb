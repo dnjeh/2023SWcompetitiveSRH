{
 "cells": [
  {
   "cell_type": "markdown",
   "metadata": {},
   "source": [
    "## 코로나-19, 실제로 약국에 도움이 되었을까?"
   ]
  },
  {
   "cell_type": "markdown",
   "metadata": {},
   "source": [
    "### 이번 2023 소프트웨어 경진대회로 주어진 데이터중, 우리 팀(의 나)는 \"3. 전국 약국 현황\"과 \"코로나-19 확진자 통계\"(https://ncov.kdca.go.kr/bdBoardListR.do?brdId=1&brdGubun=11) 데이터들을 이용하여, 코로나-19가 약국에 실제로 영향을 미쳤는지, 미쳤다면 어느 방향으로 얼마나 미쳤을 지 알아보기로 하였다. 들어가기에 앞서, 먼저 데이터 전처리가 필요하다."
   ]
  },
  {
   "cell_type": "code",
   "execution_count": null,
   "metadata": {},
   "outputs": [],
   "source": [
    "#라이브러리 불러오기\n",
    "%pip install pandas\n",
    "%pip install matplotlib\n",
    "import matplotlib.pyplot as plt\n",
    "import pandas as pd\n",
    "import csv\n",
    "plt.rc(\"font\", family = \"malgun Gothic\")\n",
    "plt.rcParams[\"axes.unicode_minus\"] = False"
   ]
  },
  {
   "cell_type": "code",
   "execution_count": 4,
   "metadata": {},
   "outputs": [
    {
     "name": "stdout",
     "output_type": "stream",
     "text": [
      "['암호화요양기호', '요양기관명', '종별코드', '종별코드명', '시도코드', '시도코드명', '시군구코드', '시군구코드명', '읍면동', '우편번호', '주소', '전화번호', '개설일자', '좌표(x)', '좌표(y)']\n",
      "['JDQ4MTg4MSM1MSMkMSMkNCMkMDMkNDgxMzUxIzExIyQxIyQ3IyQ4OSQzNjE4MzIjNDEjJDEjJDQjJDgz', '스카이약국', '81', '약국', '110000', '서울', '110021', '서초구', '', '6562', '서울특별시 서초구 방배로 199, 1층 C호 (방배동)', '02-532-7225', '20230424', '126.9911577', '37.4911126']\n",
      "['JDQ4MTg4MSM1MSMkMSMkNCMkMDMkNDgxNzAyIzUxIyQxIyQ1IyQ4MiQyNjEwMDIjNjEjJDEjJDAjJDgz', '화인약국', '81', '약국', '110000', '서울', '110018', '송파구', '', '5833', '서울특별시 송파구 중대로 80, (문정동, 롯데마트 3층)', '02-449-0895', '20060102', '127.1178428', '37.491762']\n",
      "['JDQ4MTg4MSM1MSMkMSMkNCMkMDMkNDgxNzAyIzUxIyQxIyQ1IyQ4MiQyNjEyMjIjNTEjJDEjJDIjJDgz', '마프자서울약국', '81', '약국', '110000', '서울', '110009', '마포구', '', '4124', '서울특별시 마포구 대흥로24길 24, 상가A동 206호 (염리동)', '02-711-3119', '20210409', '126.9476615', '37.553974']\n",
      "['JDQ4MTYyMiM1MSMkMSMkMCMkMDMkMzgxOTYxIzUxIyQxIyQ1IyQ3OSQyNjE4MzIjNjEjJDEjJDgjJDgz', '박하향약국', '81', '약국', '220000', '인천', '220005', '인천서구', '', '22866', '인천광역시 서구 이음대로 392, 메트로시티 106,107호 (원당동)', '032-568-8591', '20230418', '126.7127253', '37.5926069']\n",
      "['JDQ4MTYyMiM1MSMkMSMkMCMkMDMkNDgxNzAyIzIxIyQxIyQ1IyQ4MiQzNjEyMjIjODEjJDEjJDYjJDgz', '좋은우리약국', '81', '약국', '310000', '경기', '312300', '김포시', '', '10099', '경기도 김포시 감암로 7, (걸포동)', '031-987-7718', '20230412', '126.7111628', '37.6319034']\n"
     ]
    }
   ],
   "source": [
    "#파일 불러오기\n",
    "f=open(\"src/yakkok.csv\", encoding=\"cp949\")\n",
    "data_old=csv.reader(f)\n",
    "header_old=next(data_old) #데이터의 정보가 담김\n",
    "data_old=list(data_old) #실제 데이터가 담김\n",
    "print(header_old)\n",
    "for row in data_old[:5]:\n",
    "    print(row)"
   ]
  },
  {
   "cell_type": "markdown",
   "metadata": {},
   "source": [
    "#### 보다시피, 실제로 쓰기엔 부적절하거나 안 사용할 데이터가 있는 것을 확인할 수 있다. 우리가 편지를 보낼 것도 아니고, 우편번호같은 데이터는 필요 없을 것이기에 적절히 편집하였다. 또한, 확진자 통계에 관련된 데이터도 불러와주자."
   ]
  },
  {
   "cell_type": "code",
   "execution_count": 7,
   "metadata": {},
   "outputs": [
    {
     "name": "stdout",
     "output_type": "stream",
     "text": [
      "['요양기관명', '시도코드명', '시군구코드명', '주소', '전화번호', '개설일자', '좌표(x)', '좌표(y)']\n",
      "['스카이약국', '서울', '서초구', '서울특별시 서초구 방배로 199, 1층 C호 (방배동)', '02-532-7225', '20230424', '126.9911577', '37.4911126']\n",
      "['화인약국', '서울', '송파구', '서울특별시 송파구 중대로 80, (문정동, 롯데마트 3층)', '02-449-0895', '20060102', '127.1178428', '37.491762']\n",
      "['마프자서울약국', '서울', '마포구', '서울특별시 마포구 대흥로24길 24, 상가A동 206호 (염리동)', '02-711-3119', '20210409', '126.9476615', '37.553974']\n",
      "['박하향약국', '인천', '인천서구', '인천광역시 서구 이음대로 392, 메트로시티 106,107호 (원당동)', '032-568-8591', '20230418', '126.7127253', '37.5926069']\n",
      "['좋은우리약국', '경기', '김포시', '경기도 김포시 감암로 7, (걸포동)', '031-987-7718', '20230412', '126.7111628', '37.6319034']\n",
      "['일자', '계(명)', '서울', '부산', '대구', '인천', '광주', '대전', '울산', '세종', '경기', '강원', '충북', '충남', '전북', '전남', '경북', '경남', '제주', '검역']\n",
      "['누적(명)', '34,571,873 ', '6,751,223 ', '2,092,592 ', '1,516,396 ', '1,991,875 ', '1,018,481 ', '1,013,271 ', '738,120 ', '273,413 ', '9,266,555 ', '1,005,827 ', '1,075,459 ', '1,390,748 ', '1,167,903 ', '1,142,438 ', '1,581,188 ', '2,075,970 ', '451,522 ', '18,892 ']\n",
      "['2020-01-20', '1 ', '-', '-', '-', '1 ', '-', '-', '-', '-', '-', '-', '-', '-', '-', '-', '-', '-', '-', '-']\n",
      "['2020-01-21', '0 ', '-', '-', '-', '-', '-', '-', '-', '-', '-', '-', '-', '-', '-', '-', '-', '-', '-', '-']\n",
      "['2020-01-22', '0 ', '-', '-', '-', '-', '-', '-', '-', '-', '-', '-', '-', '-', '-', '-', '-', '-', '-', '-']\n",
      "['2020-01-23', '0 ', '-', '-', '-', '-', '-', '-', '-', '-', '-', '-', '-', '-', '-', '-', '-', '-', '-', '-']\n",
      "['2020-01-24', '1 ', '1 ', '-', '-', '-', '-', '-', '-', '-', '-', '-', '-', '-', '-', '-', '-', '-', '-', '-']\n",
      "['2020-01-25', '0 ', '-', '-', '-', '-', '-', '-', '-', '-', '-', '-', '-', '-', '-', '-', '-', '-', '-', '-']\n",
      "['2020-01-26', '1 ', '-', '-', '-', '-', '-', '-', '-', '-', '1 ', '-', '-', '-', '-', '-', '-', '-', '-', '-']\n",
      "['2020-01-27', '1 ', '-', '-', '-', '-', '-', '-', '-', '-', '1 ', '-', '-', '-', '-', '-', '-', '-', '-', '-']\n",
      "['2020-01-28', '0 ', '-', '-', '-', '-', '-', '-', '-', '-', '-', '-', '-', '-', '-', '-', '-', '-', '-', '-']\n"
     ]
    }
   ],
   "source": [
    "#새 파일(그리고 코로나) 불러오기\n",
    "f=open(\"src/new_yakkok.csv\", encoding=\"cp949\")\n",
    "data=csv.reader(f)\n",
    "header=next(data) #데이터의 정보가 담김\n",
    "data=list(data) #실제 데이터가 담김\n",
    "print(header)\n",
    "for row in data[:5]: #실제 데이터의 5행만큼만, 한 줄씩 출력\n",
    "    print(row)\n",
    "    \n",
    "f=open(\"src/corona.csv\", encoding=\"cp949\")\n",
    "datac=csv.reader(f)\n",
    "headerc=next(datac) #데이터의 정보가 담김\n",
    "datac=list(datac) #실제 데이터가 담김\n",
    "print(headerc)\n",
    "for row in datac[:10]: #실제 데이터의 10행만큼만, 한 줄씩 출력\n",
    "    print(row)"
   ]
  },
  {
   "cell_type": "markdown",
   "metadata": {},
   "source": [
    "#### 결측치가 얼마나 있는지도 확인해봐야 할 거 같다."
   ]
  },
  {
   "cell_type": "code",
   "execution_count": 12,
   "metadata": {},
   "outputs": [
    {
     "name": "stdout",
     "output_type": "stream",
     "text": [
      "<class 'pandas.core.frame.DataFrame'>\n",
      "RangeIndex: 24654 entries, 0 to 24653\n",
      "Data columns (total 8 columns):\n",
      " #   Column  Non-Null Count  Dtype  \n",
      "---  ------  --------------  -----  \n",
      " 0   요양기관명   24654 non-null  object \n",
      " 1   시도코드명   24654 non-null  object \n",
      " 2   시군구코드명  24654 non-null  object \n",
      " 3   주소      24654 non-null  object \n",
      " 4   전화번호    24025 non-null  object \n",
      " 5   개설일자    24643 non-null  float64\n",
      " 6   좌표(x)   24169 non-null  float64\n",
      " 7   좌표(y)   24169 non-null  float64\n",
      "dtypes: float64(3), object(5)\n",
      "memory usage: 1.5+ MB\n",
      "\n",
      "<class 'pandas.core.frame.DataFrame'>\n",
      "RangeIndex: 1321 entries, 0 to 1320\n",
      "Data columns (total 20 columns):\n",
      " #   Column  Non-Null Count  Dtype \n",
      "---  ------  --------------  ----- \n",
      " 0   일자      1321 non-null   object\n",
      " 1   계(명)    1321 non-null   object\n",
      " 2   서울      1321 non-null   object\n",
      " 3   부산      1321 non-null   object\n",
      " 4   대구      1321 non-null   object\n",
      " 5   인천      1321 non-null   object\n",
      " 6   광주      1321 non-null   object\n",
      " 7   대전      1321 non-null   object\n",
      " 8   울산      1321 non-null   object\n",
      " 9   세종      1321 non-null   object\n",
      " 10  경기      1321 non-null   object\n",
      " 11  강원      1321 non-null   object\n",
      " 12  충북      1321 non-null   object\n",
      " 13  충남      1321 non-null   object\n",
      " 14  전북      1321 non-null   object\n",
      " 15  전남      1321 non-null   object\n",
      " 16  경북      1321 non-null   object\n",
      " 17  경남      1321 non-null   object\n",
      " 18  제주      1321 non-null   object\n",
      " 19  검역      1321 non-null   object\n",
      "dtypes: object(20)\n",
      "memory usage: 206.5+ KB\n"
     ]
    }
   ],
   "source": [
    "d=pd.read_csv(\"src/new_yakkok.csv\", encoding=\"cp949\") # pandas 모듈을 이용해 정보를 확인해보자.\n",
    "d.info()\n",
    "print()\n",
    "d2=pd.read_csv(\"src/corona.csv\", encoding=\"cp949\") # 코로나 관련 데이터도\n",
    "d2.info()"
   ]
  },
  {
   "cell_type": "markdown",
   "metadata": {},
   "source": [
    "#### 코로나 관련 데이터는 적어도 비어있는 데이터는 없지만, 약국 데이터, 특히 개설일자가 빈 행이 있다. 주의하면서 진행하도록 하자."
   ]
  },
  {
   "cell_type": "markdown",
   "metadata": {},
   "source": [
    "### 먼저, 지역별로 살펴보기 이전에, 간단하게 전국적으로 알아보자."
   ]
  },
  {
   "cell_type": "markdown",
   "metadata": {},
   "source": [
    "#### 차근차근 접근해보자:"
   ]
  },
  {
   "cell_type": "markdown",
   "metadata": {},
   "source": [
    "##### 현재 등록된 약국들은, 언제 가장 많이 개설되었을까? (1990년대 이후)"
   ]
  },
  {
   "cell_type": "code",
   "execution_count": 28,
   "metadata": {},
   "outputs": [
    {
     "name": "stdout",
     "output_type": "stream",
     "text": [
      "921\n"
     ]
    },
    {
     "data": {
      "image/png": "[encoded data removed]",
      "text/plain": [
       "<Figure size 640x480 with 1 Axes>"
      ]
     },
     "metadata": {},
     "output_type": "display_data"
    }
   ],
   "source": [
    "# 약국의 개설년도를 막대그래프를 이용해 시각화 하여 보자.\n",
    "whenYear = {} # 몇 년도가 나올지는 모르니, 딕셔너리를 활용하여보자.\n",
    "for row in data:\n",
    "    if row[5] and int(row[5][:4])>=1990: #개설 일자가 실제로 존재하면서, 1990년대 이후라면..\n",
    "        if int(row[5][:4]) in whenYear: #만약 딕셔너리에 해당 년도를 key로 가진 value가 있다면..\n",
    "            whenYear[int(row[5][:4])]+=1 #기존값에 1을 더해다다\n",
    "        else:\n",
    "            whenYear[int(row[5][:4])]=1 #없다면 그냥 새로 만들어주자.\n",
    "print(whenYear[2023])            \n",
    "\n",
    "plt.title(\"연도별 약국 개설 횟수\")\n",
    "plt.xticks([i for i in range(1990, 2023, 2)], rotation=45)\n",
    "plt.bar(whenYear.keys(), whenYear.values())\n",
    "plt.show()"
   ]
  },
  {
   "cell_type": "markdown",
   "metadata": {},
   "source": [
    "##### 코로나 확진자 수와 약국 개업 시점이 실제로 영향을 주는지 알아보자."
   ]
  },
  {
   "cell_type": "code",
   "execution_count": null,
   "metadata": {},
   "outputs": [],
   "source": [
    "# 코로나 확진자 수에 대한 꺾은선 그래프와, 약국 개업 시점에 대한 꺾은선 그래프를 시각화하여 겹쳐보자.\n",
    "t = {} # 몇 년도와 달이 나올지는 모르니, 딕셔너리를 활용하여보자.\n",
    "tt = [] # 확진자 수에 대한 그래프는 \n",
    "for row in data:\n",
    "    if row[5] and int(row[5][:4])>=1990: #개설 일자가 실제로 존재하면서, 1990년대 이후라면..\n",
    "        if int(row[5][:4]) in whenYear: #만약 딕셔너리에 해당 년도를 key로 가진 value가 있다면..\n",
    "            whenYear[int(row[5][:4])]+=1 #기존값에 1을 더해다다\n",
    "        else:\n",
    "            whenYear[int(row[5][:4])]=1 #없다면 그냥 새로 만들어주자.\n",
    "            \n",
    "\n",
    "plt.title(\"연도별 약국 개설 횟수\")\n",
    "plt.xticks([i for i in range(1990, 2023, 2)], rotation=45)\n",
    "plt.bar(whenYear.keys(), whenYear.values())\n",
    "plt.show()"
   ]
  }
 ],
 "metadata": {
  "kernelspec": {
   "display_name": "Python 3",
   "language": "python",
   "name": "python3"
  },
  "language_info": {
   "codemirror_mode": {
    "name": "ipython",
    "version": 3
   },
   "file_extension": ".py",
   "mimetype": "text/x-python",
   "name": "python",
   "nbconvert_exporter": "python",
   "pygments_lexer": "ipython3",
   "version": "3.11.1"
  }
 },
 "nbformat": 4,
 "nbformat_minor": 2
}
